{
 "cells": [
  {
   "cell_type": "code",
   "execution_count": 1,
   "id": "f02c48ce",
   "metadata": {},
   "outputs": [
    {
     "name": "stdout",
     "output_type": "stream",
     "text": [
      "1 -> 3 -> 4 -> None\n"
     ]
    }
   ],
   "source": [
    "class Node:\n",
    "    def __init__(self, data):\n",
    "        self.data = data\n",
    "        self.next = None\n",
    "\n",
    "def detectAndRemoveLoop(head):\n",
    "    if not head:\n",
    "        return\n",
    "\n",
    "    slow = head\n",
    "    fast = head\n",
    "\n",
    "    while fast and fast.next:\n",
    "        slow = slow.next\n",
    "        fast = fast.next.next\n",
    "\n",
    "        if slow == fast:\n",
    "            break\n",
    "\n",
    "    if slow == fast:\n",
    "        # Loop detected, fix it\n",
    "        slow = head\n",
    "        while slow.next != fast.next:\n",
    "            slow = slow.next\n",
    "            fast = fast.next\n",
    "\n",
    "        fast.next = None  # Remove the loop\n",
    "\n",
    "def printList(head):\n",
    "    current = head\n",
    "    while current:\n",
    "        print(current.data, end=\" -> \")\n",
    "        current = current.next\n",
    "    print(\"None\")\n",
    "\n",
    "# Create the linked list\n",
    "def createLinkedList(arr, x):\n",
    "    if not arr:\n",
    "        return None\n",
    "\n",
    "    head = Node(arr[0])\n",
    "    current = head\n",
    "    loop_node = None\n",
    "\n",
    "    for i in range(1, len(arr)):\n",
    "        current.next = Node(arr[i])\n",
    "        current = current.next\n",
    "        if i == x - 1:\n",
    "            loop_node = current\n",
    "\n",
    "    if loop_node:\n",
    "        current.next = loop_node  # Create the loop\n",
    "\n",
    "    return head\n",
    "\n",
    "# Example usage\n",
    "arr = [1, 3, 4]\n",
    "x = 2\n",
    "head = createLinkedList(arr, x)\n",
    "detectAndRemoveLoop(head)\n",
    "printList(head)\n"
   ]
  },
  {
   "cell_type": "code",
   "execution_count": null,
   "id": "dff7bf7f",
   "metadata": {},
   "outputs": [],
   "source": []
  }
 ],
 "metadata": {
  "kernelspec": {
   "display_name": "Python 3 (ipykernel)",
   "language": "python",
   "name": "python3"
  },
  "language_info": {
   "codemirror_mode": {
    "name": "ipython",
    "version": 3
   },
   "file_extension": ".py",
   "mimetype": "text/x-python",
   "name": "python",
   "nbconvert_exporter": "python",
   "pygments_lexer": "ipython3",
   "version": "3.10.9"
  }
 },
 "nbformat": 4,
 "nbformat_minor": 5
}
