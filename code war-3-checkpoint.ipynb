{
 "cells": [
  {
   "cell_type": "code",
   "execution_count": 1,
   "id": "56a9affb",
   "metadata": {},
   "outputs": [
    {
     "name": "stdout",
     "output_type": "stream",
     "text": [
      "4\n",
      "9\n"
     ]
    }
   ],
   "source": [
    "def MissingNumber(arr, n):\n",
    "    total = (n * (n + 1)) // 2\n",
    "    actual_sum = sum(arr)\n",
    "    return total - actual_sum\n",
    "\n",
    "# Example usage\n",
    "arr1 = [1, 2, 3, 5]\n",
    "n1 = 5\n",
    "result1 = MissingNumber(arr1, n1)\n",
    "print(result1)  # Output: 4\n",
    "\n",
    "arr2 = [6, 1, 2, 8, 3, 4, 7, 10, 5]\n",
    "n2 = 10\n",
    "result2 = MissingNumber(arr2, n2)\n",
    "print(result2)  # Output: 9"
   ]
  },
  {
   "cell_type": "code",
   "execution_count": null,
   "id": "29b0cd24",
   "metadata": {},
   "outputs": [],
   "source": []
  }
 ],
 "metadata": {
  "kernelspec": {
   "display_name": "Python 3 (ipykernel)",
   "language": "python",
   "name": "python3"
  },
  "language_info": {
   "codemirror_mode": {
    "name": "ipython",
    "version": 3
   },
   "file_extension": ".py",
   "mimetype": "text/x-python",
   "name": "python",
   "nbconvert_exporter": "python",
   "pygments_lexer": "ipython3",
   "version": "3.10.9"
  }
 },
 "nbformat": 4,
 "nbformat_minor": 5
}
