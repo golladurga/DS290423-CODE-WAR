{
 "cells": [
  {
   "cell_type": "code",
   "execution_count": 4,
   "id": "2e3dfbb8",
   "metadata": {},
   "outputs": [
    {
     "name": "stdout",
     "output_type": "stream",
     "text": [
      "[2, 1]\n",
      "[3, 2]\n"
     ]
    }
   ],
   "source": [
    "def findTwoElement(arr, n):\n",
    "    xor1 = 0\n",
    "    for num in arr:\n",
    "        xor1 ^= num\n",
    "\n",
    "    for i in range(1, n + 1):\n",
    "        xor1 ^= i\n",
    "\n",
    "    rightmost_set_bit = xor1 & -xor1  # Find the rightmost set bit\n",
    "\n",
    "    x = 0\n",
    "    y = 0\n",
    "\n",
    "    for num in arr:\n",
    "        if num & rightmost_set_bit:\n",
    "            x ^= num\n",
    "        else:\n",
    "            y ^= num\n",
    "\n",
    "    for i in range(1, n + 1):\n",
    "        if i & rightmost_set_bit:\n",
    "            x ^= i\n",
    "        else:\n",
    "            y ^= i\n",
    "\n",
    "    for num in arr:\n",
    "        if num == x:\n",
    "            return [x, y]\n",
    "    \n",
    "    return [y, x]\n",
    "\n",
    "# Example usage\n",
    "arr1 = [2, 2]\n",
    "n1 = 2\n",
    "result1 = findTwoElement(arr1, n1)\n",
    "print(result1)  # Output: [2, 1]\n",
    "\n",
    "arr2 = [1, 3, 3]\n",
    "n2 = 3\n",
    "result2 = findTwoElement(arr2, n2)\n",
    "print(result2)  # Output: [3, 2]\n"
   ]
  },
  {
   "cell_type": "code",
   "execution_count": null,
   "id": "1d2e4e75",
   "metadata": {},
   "outputs": [],
   "source": []
  }
 ],
 "metadata": {
  "kernelspec": {
   "display_name": "Python 3 (ipykernel)",
   "language": "python",
   "name": "python3"
  },
  "language_info": {
   "codemirror_mode": {
    "name": "ipython",
    "version": 3
   },
   "file_extension": ".py",
   "mimetype": "text/x-python",
   "name": "python",
   "nbconvert_exporter": "python",
   "pygments_lexer": "ipython3",
   "version": "3.10.9"
  }
 },
 "nbformat": 4,
 "nbformat_minor": 5
}
